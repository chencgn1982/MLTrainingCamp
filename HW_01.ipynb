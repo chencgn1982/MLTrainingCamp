{
 "cells": [
  {
   "cell_type": "code",
   "execution_count": 10,
   "id": "under-navigator",
   "metadata": {},
   "outputs": [],
   "source": [
    "import numpy as np\n",
    "import pandas as pd\n",
    "import time"
   ]
  },
  {
   "source": [
    "# Hw01\n",
    "## 作業目標：\n",
    "1. 熟悉 Numpy, Pandas 的操作，並比較兩者的處理速度\n",
    "## 作業重點：\n",
    "1. 使用 Numpy, Pandas 分別計算 “homework.csv” 中每個 feature 的平均值、中位數、最大值、最小值，並比較兩者運算時間\n",
    "2. 利用以下方式篩選離群值(option)：\n",
    "* feature 的平均值組成一個高維向量 Vec\n",
    "* 計算每個 sample 與 Vec 的距離\n",
    "* 計算距離的平均值、標準差，將距離平均值超過三個標準差的點當作離群值刪除\n",
    "* __請將刪除離群值後的 dataframe 取名為 df_after_delete__"
   ],
   "cell_type": "markdown",
   "metadata": {}
  },
  {
   "cell_type": "code",
   "execution_count": 37,
   "metadata": {},
   "outputs": [],
   "source": [
    "# 讀取 homework.csv\n",
    "\"\"\" Your Code Here: 讀取 homework.csv\"\"\"\n",
    "\n",
    "path = \"homework.csv\"\n",
    "df = pd.read_csv(path)"
   ]
  },
  {
   "source": [
    "## 1. 使用 Numpy, Pandas 分別計算 “homework.csv” 中每個 feature 的平均值、中位數、最大值、最小值，並比較兩者運算時間"
   ],
   "cell_type": "markdown",
   "metadata": {}
  },
  {
   "cell_type": "code",
   "execution_count": 31,
   "metadata": {},
   "outputs": [
    {
     "output_type": "stream",
     "name": "stdout",
     "text": [
      "<class 'pandas.core.frame.DataFrame'>\n<class 'numpy.ndarray'>\n"
     ]
    }
   ],
   "source": [
    "# -------------- Numpy --------------\n",
    "arr = np.array(df, dtype = 'float') #convert Dataframe to array\n",
    "print(type(df))\n",
    "print(type(arr))\n",
    "\n"
   ]
  },
  {
   "cell_type": "code",
   "execution_count": 26,
   "metadata": {},
   "outputs": [
    {
     "output_type": "stream",
     "name": "stdout",
     "text": [
      "Pandas has done in 0.2129 sec.\n",
      "Pandas has done in 0.2748 sec.\n"
     ]
    }
   ],
   "source": [
    "start = time.time()\n",
    "\"\"\" Your Code Here: 用 Numpy 計算 “homework.csv” 中每個 feature 的平均值、中位數、最大值、最小值，並比較兩者運算時間\"\"\"\n",
    "np_mean = np.mean(arr, axis=0)\n",
    "np_median = np.median(arr, axis=0)\n",
    "np_max = np.max(arr, axis=0)\n",
    "np_min = np.min(arr, axis=0)\n",
    "end = time.time()\n",
    "print(f'Pandas has done in {(end - start):.4f} sec.')\n",
    "\n",
    "# -------------- Pandas --------------\n",
    "start = time.time()\n",
    "\"\"\" Your Code Here: 用 Pandas 計算 “homework.csv” 中每個 feature 的平均值、中位數、最大值、最小值，並比較兩者運算時間\"\"\"\n",
    "df_mean = df.mean(axis=0)\n",
    "df.median(axis=0)\n",
    "df.max(axis=0)\n",
    "df.min(axis=0)\n",
    "end = time.time()\n",
    "print(f'Pandas has done in {(end - start):.4f} sec.')"
   ]
  },
  {
   "cell_type": "code",
   "execution_count": 27,
   "metadata": {},
   "outputs": [
    {
     "output_type": "stream",
     "name": "stdout",
     "text": [
      "Pandas has done in 0.3728 sec.\n"
     ]
    }
   ],
   "source": [
    "start = time.time()\n",
    "\"\"\" Your Code Here: 用 Numpy 計算 “homework.csv” 中每個 feature 的平均值、中位數、最大值、最小值，並比較兩者運算時間\"\"\"\n",
    "np_mean = df.apply(np.mean)\n",
    "np_median = df.apply(np.median)\n",
    "np_max = df.apply(np.max)\n",
    "np_min = df.apply(np.min)\n",
    "end = time.time()\n",
    "print(f'Pandas has done in {(end - start):.4f} sec.')\n"
   ]
  },
  {
   "cell_type": "code",
   "execution_count": 22,
   "metadata": {},
   "outputs": [
    {
     "output_type": "execute_result",
     "data": {
      "text/plain": [
       "pandas.core.series.Series"
      ]
     },
     "metadata": {},
     "execution_count": 22
    }
   ],
   "source": [
    "type(np_mean)\n"
   ]
  },
  {
   "source": [
    "## 2. 利用以下方式篩選離群值(option)：\n",
    "* feature 的平均值組成一個高維向量 Vec\n",
    "* 計算每個 sample 與 Vec 的距離\n",
    "* 計算距離的平均值、標準差，將距離平均值超過三個標準差的點當作離群值刪除\n",
    "* __請將刪除離群值後的 dataframe 取名為 df_after_delete__"
   ],
   "cell_type": "markdown",
   "metadata": {}
  },
  {
   "cell_type": "code",
   "execution_count": 33,
   "metadata": {},
   "outputs": [
    {
     "output_type": "execute_result",
     "data": {
      "text/plain": [
       "           col0      col1      col2      col3      col4      col5      col6  \\\n",
       "0     -0.036435 -0.421361 -1.066812  0.462002 -0.135366 -1.156352 -0.595644   \n",
       "1      0.819396 -1.119202 -0.581719 -1.281599 -0.718293  1.696532 -0.829676   \n",
       "2     -2.089613 -0.866997 -1.778795  0.665729 -1.362113  0.431132 -1.615085   \n",
       "3     -0.288801  1.153140  1.105902 -0.310269  0.181572  0.623071 -1.354872   \n",
       "4      0.394319 -1.277700 -0.380664 -3.060462 -1.032117  0.119511  0.091366   \n",
       "...         ...       ...       ...       ...       ...       ...       ...   \n",
       "99995  1.170355 -1.657650  1.407300  0.623826 -1.784101  0.682132 -0.562078   \n",
       "99996  0.152471 -0.417596  0.077625 -0.999176 -1.875953 -2.341310 -1.912156   \n",
       "99997  1.209181 -1.137334  0.075039  0.370457  0.172337 -0.525832  1.564344   \n",
       "99998  0.039271  0.786551 -0.556954  2.461554  1.125145 -1.295183 -0.647585   \n",
       "99999 -0.016780  0.079295 -2.197458 -0.574094  0.472373  0.214772  0.008927   \n",
       "\n",
       "           col7      col8      col9  ...     col70     col71     col72  \\\n",
       "0     -0.324889 -0.006172 -0.464045  ...  0.220944 -1.231455 -0.663165   \n",
       "1     -0.310124 -1.034530 -1.098238  ... -0.447149 -0.695090  0.799185   \n",
       "2     -1.217789 -0.565244 -1.237252  ...  1.150311 -0.059597 -0.101085   \n",
       "3      0.311648 -0.379002  1.335947  ... -0.685424  0.903644  1.332135   \n",
       "4     -0.441581  0.644982 -0.258073  ... -0.032623 -1.995942 -0.300122   \n",
       "...         ...       ...       ...  ...       ...       ...       ...   \n",
       "99995 -0.156176  0.863395  0.477252  ... -0.227858  1.395501  0.563338   \n",
       "99996 -2.852842  0.739748 -0.174095  ... -1.467004  0.401076  0.224355   \n",
       "99997  1.375011 -1.378226 -1.025058  ...  1.927122 -0.333459  0.577611   \n",
       "99998  0.718132 -1.326693  0.120926  ... -0.725770  0.121066 -1.807947   \n",
       "99999  1.999709 -0.387325  0.095442  ...  0.678391 -0.574392 -1.490564   \n",
       "\n",
       "          col73     col74     col75     col76     col77     col78     col79  \n",
       "0     -0.101754 -1.313929 -0.706309  2.062001  0.612135 -0.025265  1.779212  \n",
       "1     -1.050163  1.282649  0.650103  1.398256  0.084115  1.372615 -0.798958  \n",
       "2      1.081895  0.921109 -0.022892 -0.946603 -0.977691 -0.256017  0.341029  \n",
       "3      0.530377 -0.446679  1.272757  2.505945  0.617143  0.354258 -0.962352  \n",
       "4     -1.625641 -0.740676  0.272555 -0.050364  0.648886 -0.732530 -0.055648  \n",
       "...         ...       ...       ...       ...       ...       ...       ...  \n",
       "99995  1.196886  0.483255 -1.548427 -1.050232  1.155981 -0.608173  1.210285  \n",
       "99996 -0.064977  1.594019  0.508856 -0.933282  0.156439 -0.139131 -0.595282  \n",
       "99997  0.164091  1.669428 -2.373531  0.748854  1.797186  1.263576 -0.524767  \n",
       "99998 -0.858193  0.824686  0.696428 -1.042490 -1.726251  1.206661 -0.161753  \n",
       "99999  1.279776 -0.572491 -0.016741  1.116008  0.279572 -1.138368  0.008961  \n",
       "\n",
       "[100000 rows x 80 columns]"
      ],
      "text/html": "<div>\n<style scoped>\n    .dataframe tbody tr th:only-of-type {\n        vertical-align: middle;\n    }\n\n    .dataframe tbody tr th {\n        vertical-align: top;\n    }\n\n    .dataframe thead th {\n        text-align: right;\n    }\n</style>\n<table border=\"1\" class=\"dataframe\">\n  <thead>\n    <tr style=\"text-align: right;\">\n      <th></th>\n      <th>col0</th>\n      <th>col1</th>\n      <th>col2</th>\n      <th>col3</th>\n      <th>col4</th>\n      <th>col5</th>\n      <th>col6</th>\n      <th>col7</th>\n      <th>col8</th>\n      <th>col9</th>\n      <th>...</th>\n      <th>col70</th>\n      <th>col71</th>\n      <th>col72</th>\n      <th>col73</th>\n      <th>col74</th>\n      <th>col75</th>\n      <th>col76</th>\n      <th>col77</th>\n      <th>col78</th>\n      <th>col79</th>\n    </tr>\n  </thead>\n  <tbody>\n    <tr>\n      <th>0</th>\n      <td>-0.036435</td>\n      <td>-0.421361</td>\n      <td>-1.066812</td>\n      <td>0.462002</td>\n      <td>-0.135366</td>\n      <td>-1.156352</td>\n      <td>-0.595644</td>\n      <td>-0.324889</td>\n      <td>-0.006172</td>\n      <td>-0.464045</td>\n      <td>...</td>\n      <td>0.220944</td>\n      <td>-1.231455</td>\n      <td>-0.663165</td>\n      <td>-0.101754</td>\n      <td>-1.313929</td>\n      <td>-0.706309</td>\n      <td>2.062001</td>\n      <td>0.612135</td>\n      <td>-0.025265</td>\n      <td>1.779212</td>\n    </tr>\n    <tr>\n      <th>1</th>\n      <td>0.819396</td>\n      <td>-1.119202</td>\n      <td>-0.581719</td>\n      <td>-1.281599</td>\n      <td>-0.718293</td>\n      <td>1.696532</td>\n      <td>-0.829676</td>\n      <td>-0.310124</td>\n      <td>-1.034530</td>\n      <td>-1.098238</td>\n      <td>...</td>\n      <td>-0.447149</td>\n      <td>-0.695090</td>\n      <td>0.799185</td>\n      <td>-1.050163</td>\n      <td>1.282649</td>\n      <td>0.650103</td>\n      <td>1.398256</td>\n      <td>0.084115</td>\n      <td>1.372615</td>\n      <td>-0.798958</td>\n    </tr>\n    <tr>\n      <th>2</th>\n      <td>-2.089613</td>\n      <td>-0.866997</td>\n      <td>-1.778795</td>\n      <td>0.665729</td>\n      <td>-1.362113</td>\n      <td>0.431132</td>\n      <td>-1.615085</td>\n      <td>-1.217789</td>\n      <td>-0.565244</td>\n      <td>-1.237252</td>\n      <td>...</td>\n      <td>1.150311</td>\n      <td>-0.059597</td>\n      <td>-0.101085</td>\n      <td>1.081895</td>\n      <td>0.921109</td>\n      <td>-0.022892</td>\n      <td>-0.946603</td>\n      <td>-0.977691</td>\n      <td>-0.256017</td>\n      <td>0.341029</td>\n    </tr>\n    <tr>\n      <th>3</th>\n      <td>-0.288801</td>\n      <td>1.153140</td>\n      <td>1.105902</td>\n      <td>-0.310269</td>\n      <td>0.181572</td>\n      <td>0.623071</td>\n      <td>-1.354872</td>\n      <td>0.311648</td>\n      <td>-0.379002</td>\n      <td>1.335947</td>\n      <td>...</td>\n      <td>-0.685424</td>\n      <td>0.903644</td>\n      <td>1.332135</td>\n      <td>0.530377</td>\n      <td>-0.446679</td>\n      <td>1.272757</td>\n      <td>2.505945</td>\n      <td>0.617143</td>\n      <td>0.354258</td>\n      <td>-0.962352</td>\n    </tr>\n    <tr>\n      <th>4</th>\n      <td>0.394319</td>\n      <td>-1.277700</td>\n      <td>-0.380664</td>\n      <td>-3.060462</td>\n      <td>-1.032117</td>\n      <td>0.119511</td>\n      <td>0.091366</td>\n      <td>-0.441581</td>\n      <td>0.644982</td>\n      <td>-0.258073</td>\n      <td>...</td>\n      <td>-0.032623</td>\n      <td>-1.995942</td>\n      <td>-0.300122</td>\n      <td>-1.625641</td>\n      <td>-0.740676</td>\n      <td>0.272555</td>\n      <td>-0.050364</td>\n      <td>0.648886</td>\n      <td>-0.732530</td>\n      <td>-0.055648</td>\n    </tr>\n    <tr>\n      <th>...</th>\n      <td>...</td>\n      <td>...</td>\n      <td>...</td>\n      <td>...</td>\n      <td>...</td>\n      <td>...</td>\n      <td>...</td>\n      <td>...</td>\n      <td>...</td>\n      <td>...</td>\n      <td>...</td>\n      <td>...</td>\n      <td>...</td>\n      <td>...</td>\n      <td>...</td>\n      <td>...</td>\n      <td>...</td>\n      <td>...</td>\n      <td>...</td>\n      <td>...</td>\n      <td>...</td>\n    </tr>\n    <tr>\n      <th>99995</th>\n      <td>1.170355</td>\n      <td>-1.657650</td>\n      <td>1.407300</td>\n      <td>0.623826</td>\n      <td>-1.784101</td>\n      <td>0.682132</td>\n      <td>-0.562078</td>\n      <td>-0.156176</td>\n      <td>0.863395</td>\n      <td>0.477252</td>\n      <td>...</td>\n      <td>-0.227858</td>\n      <td>1.395501</td>\n      <td>0.563338</td>\n      <td>1.196886</td>\n      <td>0.483255</td>\n      <td>-1.548427</td>\n      <td>-1.050232</td>\n      <td>1.155981</td>\n      <td>-0.608173</td>\n      <td>1.210285</td>\n    </tr>\n    <tr>\n      <th>99996</th>\n      <td>0.152471</td>\n      <td>-0.417596</td>\n      <td>0.077625</td>\n      <td>-0.999176</td>\n      <td>-1.875953</td>\n      <td>-2.341310</td>\n      <td>-1.912156</td>\n      <td>-2.852842</td>\n      <td>0.739748</td>\n      <td>-0.174095</td>\n      <td>...</td>\n      <td>-1.467004</td>\n      <td>0.401076</td>\n      <td>0.224355</td>\n      <td>-0.064977</td>\n      <td>1.594019</td>\n      <td>0.508856</td>\n      <td>-0.933282</td>\n      <td>0.156439</td>\n      <td>-0.139131</td>\n      <td>-0.595282</td>\n    </tr>\n    <tr>\n      <th>99997</th>\n      <td>1.209181</td>\n      <td>-1.137334</td>\n      <td>0.075039</td>\n      <td>0.370457</td>\n      <td>0.172337</td>\n      <td>-0.525832</td>\n      <td>1.564344</td>\n      <td>1.375011</td>\n      <td>-1.378226</td>\n      <td>-1.025058</td>\n      <td>...</td>\n      <td>1.927122</td>\n      <td>-0.333459</td>\n      <td>0.577611</td>\n      <td>0.164091</td>\n      <td>1.669428</td>\n      <td>-2.373531</td>\n      <td>0.748854</td>\n      <td>1.797186</td>\n      <td>1.263576</td>\n      <td>-0.524767</td>\n    </tr>\n    <tr>\n      <th>99998</th>\n      <td>0.039271</td>\n      <td>0.786551</td>\n      <td>-0.556954</td>\n      <td>2.461554</td>\n      <td>1.125145</td>\n      <td>-1.295183</td>\n      <td>-0.647585</td>\n      <td>0.718132</td>\n      <td>-1.326693</td>\n      <td>0.120926</td>\n      <td>...</td>\n      <td>-0.725770</td>\n      <td>0.121066</td>\n      <td>-1.807947</td>\n      <td>-0.858193</td>\n      <td>0.824686</td>\n      <td>0.696428</td>\n      <td>-1.042490</td>\n      <td>-1.726251</td>\n      <td>1.206661</td>\n      <td>-0.161753</td>\n    </tr>\n    <tr>\n      <th>99999</th>\n      <td>-0.016780</td>\n      <td>0.079295</td>\n      <td>-2.197458</td>\n      <td>-0.574094</td>\n      <td>0.472373</td>\n      <td>0.214772</td>\n      <td>0.008927</td>\n      <td>1.999709</td>\n      <td>-0.387325</td>\n      <td>0.095442</td>\n      <td>...</td>\n      <td>0.678391</td>\n      <td>-0.574392</td>\n      <td>-1.490564</td>\n      <td>1.279776</td>\n      <td>-0.572491</td>\n      <td>-0.016741</td>\n      <td>1.116008</td>\n      <td>0.279572</td>\n      <td>-1.138368</td>\n      <td>0.008961</td>\n    </tr>\n  </tbody>\n</table>\n<p>100000 rows × 80 columns</p>\n</div>"
     },
     "metadata": {},
     "execution_count": 33
    }
   ],
   "source": [
    "# 計算各個 sample 與 Vec 之距離\n",
    "\"\"\" Your Code Here: 計算各個 sample 與 Vec 之距離\"\"\"\n",
    "df_distance = df - df_mean\n",
    "\n",
    "df_distance"
   ]
  },
  {
   "cell_type": "code",
   "execution_count": 35,
   "metadata": {},
   "outputs": [
    {
     "output_type": "execute_result",
     "data": {
      "text/plain": [
       "' Your Code Here: 刪除離群值'"
      ]
     },
     "metadata": {},
     "execution_count": 35
    }
   ],
   "source": [
    "# 計算 distance 的 mean, std, 並篩選離群值\n",
    "\"\"\" Your Code Here: 計算 distance 的 mean, std, 並篩選離群值\"\"\"\n",
    "df_dist_mean = df_distance.mean(axis=0)\n",
    "df_dist_std = df_distance.std(axis=0)\n",
    "\n",
    "# 刪除離群值\n",
    "\"\"\" Your Code Here: 刪除離群值\"\"\"\n"
   ]
  },
  {
   "source": [
    "## --驗證答案--"
   ],
   "cell_type": "markdown",
   "metadata": {}
  },
  {
   "cell_type": "code",
   "execution_count": null,
   "metadata": {},
   "outputs": [],
   "source": [
    "ans = pd.read_csv('./data/ans.csv')\n",
    "judge = not (False in (ans == df_after_delete))\n",
    "print(f'Your answer is {judge}.')"
   ]
  },
  {
   "cell_type": "code",
   "execution_count": null,
   "metadata": {},
   "outputs": [],
   "source": []
  }
 ],
 "metadata": {
  "kernelspec": {
   "name": "python395jvsc74a57bd0ac59ebe37160ed0dfa835113d9b8498d9f09ceb179beaac4002f036b9467c963",
   "display_name": "Python 3.9.5 64-bit"
  },
  "language_info": {
   "codemirror_mode": {
    "name": "ipython",
    "version": 3
   },
   "file_extension": ".py",
   "mimetype": "text/x-python",
   "name": "python",
   "nbconvert_exporter": "python",
   "pygments_lexer": "ipython3",
   "version": "3.9.5"
  },
  "metadata": {
   "interpreter": {
    "hash": "ac59ebe37160ed0dfa835113d9b8498d9f09ceb179beaac4002f036b9467c963"
   }
  }
 },
 "nbformat": 4,
 "nbformat_minor": 5
}